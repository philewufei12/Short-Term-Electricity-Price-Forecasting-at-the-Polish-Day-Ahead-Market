{
 "cells": [
  {
   "cell_type": "code",
   "execution_count": null,
   "id": "0244be62",
   "metadata": {},
   "outputs": [],
   "source": [
    "import pandas as pd\n",
    "import numpy as np\n",
    "import matplotlib.pyplot as plt\n",
    "from sklearn.preprocessing import MinMaxScaler"
   ]
  },
  {
   "cell_type": "code",
   "execution_count": null,
   "id": "71d6e981",
   "metadata": {},
   "outputs": [],
   "source": [
    "df = pd.read_excel('./data/data.xlsx', skiprows=0)\n",
    "del df['Unnamed: 0']"
   ]
  },
  {
   "cell_type": "code",
   "execution_count": null,
   "id": "71ad3879",
   "metadata": {},
   "outputs": [],
   "source": [
    "df = df.set_index(\"date\", drop=True)"
   ]
  },
  {
   "cell_type": "code",
   "execution_count": null,
   "id": "bfaa287f",
   "metadata": {},
   "outputs": [],
   "source": [
    "target = \"electricity_price (PLN/MWh)\"\n",
    "target_mean = df[target].mean()\n",
    "target_stdev = df[target].std()\n",
    "\n",
    "for c in df.columns:\n",
    "    mean = df[c].mean()\n",
    "    stdev = df[c].std()\n",
    "\n",
    "    df[c] = (df[c] - mean) / stdev\n",
    "    "
   ]
  },
  {
   "cell_type": "code",
   "execution_count": null,
   "id": "e2615c96",
   "metadata": {},
   "outputs": [],
   "source": [
    "model = MLPRegressor(random_state=1, activation='identity',  learning_rate='constant', learning_rate_init=0.0003,\n",
    "                     early_stopping=True,  validation_fraction=0.0917, verbose=False, power_t=0.5, batch_size=32, alpha=0.0005, shuffle=False,\n",
    "                      max_iter=60, solver='adam',  hidden_layer_sizes=(128,2)).fit(X_train, y_train)\n"
   ]
  },
  {
   "cell_type": "code",
   "execution_count": null,
   "id": "674d7d85",
   "metadata": {},
   "outputs": [],
   "source": [
    "prediction = model.predict(X_test)\n",
    "df_result = pd.DataFrame(y_test)\n",
    "df_result[\"model_forecast\"] = prediction\n",
    "df_result = df_result.sort_index()\n",
    "\n",
    "\n",
    "for c in result.columns:\n",
    "    df_result[c] = df_result[c] * target_stdev + target_mean\n",
    "`b"
   ]
  },
  {
   "cell_type": "code",
   "execution_count": null,
   "id": "8063bfe1",
   "metadata": {},
   "outputs": [],
   "source": [
    "from sklearn.metrics import mean_absolute_error, mean_squared_error, r2_score, mean_absolute_percentage_error\n",
    "\n",
    "def calculate_metrics(df):\n",
    "    return {'mae' : mean_absolute_error(df['electricity_price (PLN/MWh)'], df['model_forecast']),\n",
    "            'rmse' : mean_squared_error(df['electricity_price (PLN/MWh)'], df['model_forecast']) ** 0.5,\n",
    "            'r2' : r2_score(df['electricity_price (PLN/MWh)'], df['model_forecast']),\n",
    "             'mape' : mean_absolute_percentage_error(df['electricity_price (PLN/MWh)'], df['model_forecast'])*100}\n",
    "\n",
    "\n",
    "result_metrics = calculate_metrics(df_result)"
   ]
  }
 ],
 "metadata": {
  "kernelspec": {
   "display_name": "Python 3 (ipykernel)",
   "language": "python",
   "name": "python3"
  },
  "language_info": {
   "codemirror_mode": {
    "name": "ipython",
    "version": 3
   },
   "file_extension": ".py",
   "mimetype": "text/x-python",
   "name": "python",
   "nbconvert_exporter": "python",
   "pygments_lexer": "ipython3",
   "version": "3.7.3"
  }
 },
 "nbformat": 4,
 "nbformat_minor": 5
}
